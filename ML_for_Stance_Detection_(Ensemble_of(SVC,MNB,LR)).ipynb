{
  "cells": [
    {
      "cell_type": "markdown",
      "metadata": {
        "id": "view-in-github",
        "colab_type": "text"
      },
      "source": [
        "<a href=\"https://colab.research.google.com/github/NoufAlshenaifi/Rasid-at-StanceEval2024/blob/main/ML_for_Stance_Detection_(Ensemble_of(SVC%2CMNB%2CLR)).ipynb\" target=\"_parent\"><img src=\"https://colab.research.google.com/assets/colab-badge.svg\" alt=\"Open In Colab\"/></a>"
      ]
    },
    {
      "cell_type": "code",
      "execution_count": null,
      "metadata": {
        "id": "ZYWninf7XAJ4"
      },
      "outputs": [],
      "source": [
        "########### Ensamble model ###############\n",
        "# Building voting classifier (linearsvc, multinomialNB, Logistic regression)"
      ]
    },
    {
      "cell_type": "code",
      "execution_count": 111,
      "metadata": {
        "id": "Pcfx5ejmXKgU"
      },
      "outputs": [],
      "source": [
        "import pandas as pd\n",
        "import numpy as np\n",
        "import matplotlib.pyplot as plt\n",
        "import csv\n",
        "import re # for regular expression\n",
        "import string\n",
        "\n",
        "import nltk\n",
        "from nltk.corpus import stopwords\n",
        "from nltk.tokenize import RegexpTokenizer\n",
        "from collections import Counter\n",
        "\n",
        "#ML Classification\n",
        "from sklearn import model_selection, naive_bayes, svm\n",
        "from sklearn.metrics import accuracy_score\n",
        "from sklearn.model_selection import train_test_split\n",
        "from sklearn.linear_model import LogisticRegression\n",
        "from sklearn.model_selection import cross_val_score, cross_val_predict, KFold\n",
        "from sklearn.metrics  import confusion_matrix, classification_report\n",
        "from sklearn import metrics\n",
        "from sklearn.preprocessing import LabelEncoder\n",
        "\n",
        "from sklearn.naive_bayes import MultinomialNB\n",
        "from sklearn.pipeline import Pipeline\n",
        "from sklearn.feature_extraction.text import TfidfTransformer, TfidfVectorizer\n",
        "import pickle\n",
        "from sklearn.multiclass import OneVsRestClassifier\n",
        "from sklearn.tree import DecisionTreeClassifier\n",
        "from sklearn.pipeline import Pipeline,FeatureUnion\n",
        "from imblearn.over_sampling import SMOTE\n",
        "from sklearn.svm import LinearSVC\n",
        "from sklearn.naive_bayes import BernoulliNB, ComplementNB, MultinomialNB\n",
        "from sklearn.ensemble import VotingClassifier\n",
        "import torch"
      ]
    },
    {
      "cell_type": "code",
      "source": [
        "if torch.cuda.is_available():\n",
        "\n",
        "    # Tell PyTorch to use the GPU.\n",
        "    device = torch.device(\"cuda\")\n",
        "\n",
        "    print('There are %d GPU(s) available.' % torch.cuda.device_count())\n",
        "\n",
        "    print('We will use the GPU:', torch.cuda.get_device_name(0))\n",
        "\n",
        "# If not...\n",
        "else:\n",
        "    print('No GPU available, using the CPU instead.')\n",
        "    device = torch.device(\"cpu\")"
      ],
      "metadata": {
        "colab": {
          "base_uri": "https://localhost:8080/"
        },
        "id": "0V4oDvUaOUIi",
        "outputId": "26cbe321-ed0f-4955-839b-e218ec29b18e"
      },
      "execution_count": 4,
      "outputs": [
        {
          "output_type": "stream",
          "name": "stdout",
          "text": [
            "No GPU available, using the CPU instead.\n"
          ]
        }
      ]
    },
    {
      "cell_type": "code",
      "execution_count": 112,
      "metadata": {
        "id": "w3YovpvMXKjQ"
      },
      "outputs": [],
      "source": [
        "data_df= pd.read_csv('V2_Mawqif_AllTargets_Train.csv')"
      ]
    },
    {
      "cell_type": "code",
      "execution_count": 113,
      "metadata": {
        "colab": {
          "base_uri": "https://localhost:8080/",
          "height": 206
        },
        "id": "8xkYuvTyXKmc",
        "outputId": "3fe3449a-3be4-470a-c2c5-cc763afa7b55"
      },
      "outputs": [
        {
          "output_type": "execute_result",
          "data": {
            "text/plain": [
              "   ID                                               text  \\\n",
              "0   1   عشان يلمع صورته ويعنني تمكين المرأة ويصير ترن...   \n",
              "1   3   روح حلل محد يم تطعيم كورونا شف الحرم البارح م...   \n",
              "2   4  هذا ما يُعرّف بـ'فوبيا المرأة المُتمكنة' آفة ف...   \n",
              "3   6  #LEAP22  مؤتمر يجمع اشهر وابرز المؤثرين في الم...   \n",
              "4   7  خصوصية البيانات وحمايتها في المنظمة مطلب ولكن ...   \n",
              "\n",
              "                   target   stance  \n",
              "0       Women empowerment  Against  \n",
              "1           Covid Vaccine  Nothing  \n",
              "2       Women empowerment    Favor  \n",
              "3  Digital Transformation    Favor  \n",
              "4  Digital Transformation    Favor  "
            ],
            "text/html": [
              "\n",
              "  <div id=\"df-eac2cb1e-9a2e-4bbf-a884-6224cda8ae61\" class=\"colab-df-container\">\n",
              "    <div>\n",
              "<style scoped>\n",
              "    .dataframe tbody tr th:only-of-type {\n",
              "        vertical-align: middle;\n",
              "    }\n",
              "\n",
              "    .dataframe tbody tr th {\n",
              "        vertical-align: top;\n",
              "    }\n",
              "\n",
              "    .dataframe thead th {\n",
              "        text-align: right;\n",
              "    }\n",
              "</style>\n",
              "<table border=\"1\" class=\"dataframe\">\n",
              "  <thead>\n",
              "    <tr style=\"text-align: right;\">\n",
              "      <th></th>\n",
              "      <th>ID</th>\n",
              "      <th>text</th>\n",
              "      <th>target</th>\n",
              "      <th>stance</th>\n",
              "    </tr>\n",
              "  </thead>\n",
              "  <tbody>\n",
              "    <tr>\n",
              "      <th>0</th>\n",
              "      <td>1</td>\n",
              "      <td>عشان يلمع صورته ويعنني تمكين المرأة ويصير ترن...</td>\n",
              "      <td>Women empowerment</td>\n",
              "      <td>Against</td>\n",
              "    </tr>\n",
              "    <tr>\n",
              "      <th>1</th>\n",
              "      <td>3</td>\n",
              "      <td>روح حلل محد يم تطعيم كورونا شف الحرم البارح م...</td>\n",
              "      <td>Covid Vaccine</td>\n",
              "      <td>Nothing</td>\n",
              "    </tr>\n",
              "    <tr>\n",
              "      <th>2</th>\n",
              "      <td>4</td>\n",
              "      <td>هذا ما يُعرّف بـ'فوبيا المرأة المُتمكنة' آفة ف...</td>\n",
              "      <td>Women empowerment</td>\n",
              "      <td>Favor</td>\n",
              "    </tr>\n",
              "    <tr>\n",
              "      <th>3</th>\n",
              "      <td>6</td>\n",
              "      <td>#LEAP22  مؤتمر يجمع اشهر وابرز المؤثرين في الم...</td>\n",
              "      <td>Digital Transformation</td>\n",
              "      <td>Favor</td>\n",
              "    </tr>\n",
              "    <tr>\n",
              "      <th>4</th>\n",
              "      <td>7</td>\n",
              "      <td>خصوصية البيانات وحمايتها في المنظمة مطلب ولكن ...</td>\n",
              "      <td>Digital Transformation</td>\n",
              "      <td>Favor</td>\n",
              "    </tr>\n",
              "  </tbody>\n",
              "</table>\n",
              "</div>\n",
              "    <div class=\"colab-df-buttons\">\n",
              "\n",
              "  <div class=\"colab-df-container\">\n",
              "    <button class=\"colab-df-convert\" onclick=\"convertToInteractive('df-eac2cb1e-9a2e-4bbf-a884-6224cda8ae61')\"\n",
              "            title=\"Convert this dataframe to an interactive table.\"\n",
              "            style=\"display:none;\">\n",
              "\n",
              "  <svg xmlns=\"http://www.w3.org/2000/svg\" height=\"24px\" viewBox=\"0 -960 960 960\">\n",
              "    <path d=\"M120-120v-720h720v720H120Zm60-500h600v-160H180v160Zm220 220h160v-160H400v160Zm0 220h160v-160H400v160ZM180-400h160v-160H180v160Zm440 0h160v-160H620v160ZM180-180h160v-160H180v160Zm440 0h160v-160H620v160Z\"/>\n",
              "  </svg>\n",
              "    </button>\n",
              "\n",
              "  <style>\n",
              "    .colab-df-container {\n",
              "      display:flex;\n",
              "      gap: 12px;\n",
              "    }\n",
              "\n",
              "    .colab-df-convert {\n",
              "      background-color: #E8F0FE;\n",
              "      border: none;\n",
              "      border-radius: 50%;\n",
              "      cursor: pointer;\n",
              "      display: none;\n",
              "      fill: #1967D2;\n",
              "      height: 32px;\n",
              "      padding: 0 0 0 0;\n",
              "      width: 32px;\n",
              "    }\n",
              "\n",
              "    .colab-df-convert:hover {\n",
              "      background-color: #E2EBFA;\n",
              "      box-shadow: 0px 1px 2px rgba(60, 64, 67, 0.3), 0px 1px 3px 1px rgba(60, 64, 67, 0.15);\n",
              "      fill: #174EA6;\n",
              "    }\n",
              "\n",
              "    .colab-df-buttons div {\n",
              "      margin-bottom: 4px;\n",
              "    }\n",
              "\n",
              "    [theme=dark] .colab-df-convert {\n",
              "      background-color: #3B4455;\n",
              "      fill: #D2E3FC;\n",
              "    }\n",
              "\n",
              "    [theme=dark] .colab-df-convert:hover {\n",
              "      background-color: #434B5C;\n",
              "      box-shadow: 0px 1px 3px 1px rgba(0, 0, 0, 0.15);\n",
              "      filter: drop-shadow(0px 1px 2px rgba(0, 0, 0, 0.3));\n",
              "      fill: #FFFFFF;\n",
              "    }\n",
              "  </style>\n",
              "\n",
              "    <script>\n",
              "      const buttonEl =\n",
              "        document.querySelector('#df-eac2cb1e-9a2e-4bbf-a884-6224cda8ae61 button.colab-df-convert');\n",
              "      buttonEl.style.display =\n",
              "        google.colab.kernel.accessAllowed ? 'block' : 'none';\n",
              "\n",
              "      async function convertToInteractive(key) {\n",
              "        const element = document.querySelector('#df-eac2cb1e-9a2e-4bbf-a884-6224cda8ae61');\n",
              "        const dataTable =\n",
              "          await google.colab.kernel.invokeFunction('convertToInteractive',\n",
              "                                                    [key], {});\n",
              "        if (!dataTable) return;\n",
              "\n",
              "        const docLinkHtml = 'Like what you see? Visit the ' +\n",
              "          '<a target=\"_blank\" href=https://colab.research.google.com/notebooks/data_table.ipynb>data table notebook</a>'\n",
              "          + ' to learn more about interactive tables.';\n",
              "        element.innerHTML = '';\n",
              "        dataTable['output_type'] = 'display_data';\n",
              "        await google.colab.output.renderOutput(dataTable, element);\n",
              "        const docLink = document.createElement('div');\n",
              "        docLink.innerHTML = docLinkHtml;\n",
              "        element.appendChild(docLink);\n",
              "      }\n",
              "    </script>\n",
              "  </div>\n",
              "\n",
              "\n",
              "<div id=\"df-4e882efd-6174-4d3b-8038-6e608b346aaa\">\n",
              "  <button class=\"colab-df-quickchart\" onclick=\"quickchart('df-4e882efd-6174-4d3b-8038-6e608b346aaa')\"\n",
              "            title=\"Suggest charts\"\n",
              "            style=\"display:none;\">\n",
              "\n",
              "<svg xmlns=\"http://www.w3.org/2000/svg\" height=\"24px\"viewBox=\"0 0 24 24\"\n",
              "     width=\"24px\">\n",
              "    <g>\n",
              "        <path d=\"M19 3H5c-1.1 0-2 .9-2 2v14c0 1.1.9 2 2 2h14c1.1 0 2-.9 2-2V5c0-1.1-.9-2-2-2zM9 17H7v-7h2v7zm4 0h-2V7h2v10zm4 0h-2v-4h2v4z\"/>\n",
              "    </g>\n",
              "</svg>\n",
              "  </button>\n",
              "\n",
              "<style>\n",
              "  .colab-df-quickchart {\n",
              "      --bg-color: #E8F0FE;\n",
              "      --fill-color: #1967D2;\n",
              "      --hover-bg-color: #E2EBFA;\n",
              "      --hover-fill-color: #174EA6;\n",
              "      --disabled-fill-color: #AAA;\n",
              "      --disabled-bg-color: #DDD;\n",
              "  }\n",
              "\n",
              "  [theme=dark] .colab-df-quickchart {\n",
              "      --bg-color: #3B4455;\n",
              "      --fill-color: #D2E3FC;\n",
              "      --hover-bg-color: #434B5C;\n",
              "      --hover-fill-color: #FFFFFF;\n",
              "      --disabled-bg-color: #3B4455;\n",
              "      --disabled-fill-color: #666;\n",
              "  }\n",
              "\n",
              "  .colab-df-quickchart {\n",
              "    background-color: var(--bg-color);\n",
              "    border: none;\n",
              "    border-radius: 50%;\n",
              "    cursor: pointer;\n",
              "    display: none;\n",
              "    fill: var(--fill-color);\n",
              "    height: 32px;\n",
              "    padding: 0;\n",
              "    width: 32px;\n",
              "  }\n",
              "\n",
              "  .colab-df-quickchart:hover {\n",
              "    background-color: var(--hover-bg-color);\n",
              "    box-shadow: 0 1px 2px rgba(60, 64, 67, 0.3), 0 1px 3px 1px rgba(60, 64, 67, 0.15);\n",
              "    fill: var(--button-hover-fill-color);\n",
              "  }\n",
              "\n",
              "  .colab-df-quickchart-complete:disabled,\n",
              "  .colab-df-quickchart-complete:disabled:hover {\n",
              "    background-color: var(--disabled-bg-color);\n",
              "    fill: var(--disabled-fill-color);\n",
              "    box-shadow: none;\n",
              "  }\n",
              "\n",
              "  .colab-df-spinner {\n",
              "    border: 2px solid var(--fill-color);\n",
              "    border-color: transparent;\n",
              "    border-bottom-color: var(--fill-color);\n",
              "    animation:\n",
              "      spin 1s steps(1) infinite;\n",
              "  }\n",
              "\n",
              "  @keyframes spin {\n",
              "    0% {\n",
              "      border-color: transparent;\n",
              "      border-bottom-color: var(--fill-color);\n",
              "      border-left-color: var(--fill-color);\n",
              "    }\n",
              "    20% {\n",
              "      border-color: transparent;\n",
              "      border-left-color: var(--fill-color);\n",
              "      border-top-color: var(--fill-color);\n",
              "    }\n",
              "    30% {\n",
              "      border-color: transparent;\n",
              "      border-left-color: var(--fill-color);\n",
              "      border-top-color: var(--fill-color);\n",
              "      border-right-color: var(--fill-color);\n",
              "    }\n",
              "    40% {\n",
              "      border-color: transparent;\n",
              "      border-right-color: var(--fill-color);\n",
              "      border-top-color: var(--fill-color);\n",
              "    }\n",
              "    60% {\n",
              "      border-color: transparent;\n",
              "      border-right-color: var(--fill-color);\n",
              "    }\n",
              "    80% {\n",
              "      border-color: transparent;\n",
              "      border-right-color: var(--fill-color);\n",
              "      border-bottom-color: var(--fill-color);\n",
              "    }\n",
              "    90% {\n",
              "      border-color: transparent;\n",
              "      border-bottom-color: var(--fill-color);\n",
              "    }\n",
              "  }\n",
              "</style>\n",
              "\n",
              "  <script>\n",
              "    async function quickchart(key) {\n",
              "      const quickchartButtonEl =\n",
              "        document.querySelector('#' + key + ' button');\n",
              "      quickchartButtonEl.disabled = true;  // To prevent multiple clicks.\n",
              "      quickchartButtonEl.classList.add('colab-df-spinner');\n",
              "      try {\n",
              "        const charts = await google.colab.kernel.invokeFunction(\n",
              "            'suggestCharts', [key], {});\n",
              "      } catch (error) {\n",
              "        console.error('Error during call to suggestCharts:', error);\n",
              "      }\n",
              "      quickchartButtonEl.classList.remove('colab-df-spinner');\n",
              "      quickchartButtonEl.classList.add('colab-df-quickchart-complete');\n",
              "    }\n",
              "    (() => {\n",
              "      let quickchartButtonEl =\n",
              "        document.querySelector('#df-4e882efd-6174-4d3b-8038-6e608b346aaa button');\n",
              "      quickchartButtonEl.style.display =\n",
              "        google.colab.kernel.accessAllowed ? 'block' : 'none';\n",
              "    })();\n",
              "  </script>\n",
              "</div>\n",
              "\n",
              "    </div>\n",
              "  </div>\n"
            ],
            "application/vnd.google.colaboratory.intrinsic+json": {
              "type": "dataframe",
              "variable_name": "data_df",
              "summary": "{\n  \"name\": \"data_df\",\n  \"rows\": 3502,\n  \"fields\": [\n    {\n      \"column\": \"ID\",\n      \"properties\": {\n        \"dtype\": \"number\",\n        \"std\": 1184,\n        \"min\": 1,\n        \"max\": 4121,\n        \"num_unique_values\": 3502,\n        \"samples\": [\n          3698,\n          378,\n          2554\n        ],\n        \"semantic_type\": \"\",\n        \"description\": \"\"\n      }\n    },\n    {\n      \"column\": \"text\",\n      \"properties\": {\n        \"dtype\": \"string\",\n        \"num_unique_values\": 3495,\n        \"samples\": [\n          \"\\ud83d\\udccd\\u0627\\u0644\\u0645\\u0631\\u0627\\u062c\\u0639\\u0629 \\u0648\\u0627\\u0644\\u062a\\u062f\\u0642\\u064a\\u0642  \\u0644\\u0644\\u0634\\u0631\\u0643\\u0627\\u062a \\u0627\\u0644\\u0639\\u0627\\u0645\\u0644\\u0629 \\u0641\\u064a \\u0645\\u062c\\u0627\\u0644 \\u0627\\u0644\\u062a\\u062c\\u0627\\u0631\\u0629 \\u0627\\u0644\\u0627\\u0644\\u0643\\u062a\\u0631\\u0648\\u0646\\u064a\\u0629.  \\ud83d\\udccd \\u0627\\u0644\\u062a\\u0637\\u0648\\u0631 \\u0627\\u0644\\u062a\\u0642\\u0646\\u064a \\u0648\\u0627\\u0644\\u062a\\u0643\\u0646\\u0648\\u0644\\u0648\\u062c\\u064a \\u0648 \\u062a\\u0635\\u0645\\u064a\\u0645 \\u0627\\u0644\\u0646\\u0638\\u0645  \\ud83d\\udccd\\u0627\\u062b\\u0631 \\u0627\\u0644\\u062d\\u0648\\u0643\\u0645\\u0629 \\u0639\\u0644\\u0649 \\u062c\\u0648\\u062f\\u0647 \\u0627\\u0644\\u062a\\u0642\\u0627\\u0631\\u064a\\u0631 \\u0627\\u0644\\u0645\\u0627\\u0644\\u064a\\u0629  \\ud83d\\udccd\\u0627\\u062b\\u0631 \\u0627\\u0644\\u062a\\u062d\\u0648\\u0644 \\u0627\\u0644\\u0645\\u062d\\u0627\\u0633\\u0628\\u064a \\u0641\\u064a \\u0627\\u0644\\u0642\\u0637\\u0627\\u0639 \\u0627\\u0644\\u062d\\u0643\\u0648\\u0645\\u064a \\u0641\\u064a \\u062a\\u062d\\u0642\\u064a\\u0642 \\u0627\\u0644\\u0631\\u0624\\u064a\\u0629\",\n          \" \\u062a\\u0645\\u0643\\u064a\\u0646 \\u0627\\u0644\\u0645\\u0631\\u0623\\u0629 \\u0641\\u064a \\u0627\\u0644\\u0645\\u0646\\u0627\\u0635\\u0628 \\u0627\\u0644\\u0642\\u064a\\u0627\\u062f\\u064a\\u0629 \\u0645\\u062e\\u0627\\u0644\\u0641 \\u0644\\u062a\\u0648\\u062c\\u064a\\u0647\\u0627\\u062a \\u0646\\u0628\\u064a\\u0646\\u0627 \\u0627\\u0644\\u0643\\u0631\\u064a\\u0645 \\u0627\\u0644\\u0635\\u062d\\u0627\\u0628\\u064a\\u0627\\u062a \\u0639\\u0644\\u0649 \\u0643\\u0631\\u064a\\u0645 \\u0642\\u062f\\u0631\\u0647\\u0645 \\u0648\\u0639\\u0644\\u0645\\u0647\\u0645 \\u0644\\u0645 \\u062a\\u062a\\u0648\\u0644\\u0649 \\u0625\\u062d\\u062f\\u0627\\u0647\\u0646 \\u0645\\u0646\\u0635\\u0628\\u0627 \\u0642\\u064a\\u0627\\u062f\\u064a\\u0627 \\u0623\\u0628\\u062f\\u0627.. \\u0641\\u0627\\u062a\\u0645\\u0646\\u0649 \\u0645\\u0646\\u0643 \\u064a\\u0627 \\u062f\\u0643\\u062a\\u0648\\u0631 \\u0623\\u0646 \\u062a\\u0631\\u0636\\u064a \\u0627\\u0644\\u0644\\u0647 \\u0648\\u062a\\u062a\\u0631\\u0643 \\u0627\\u0644\\u0646\\u0627\\u0633\",\n          \"   \\u0627\\u0644\\u062a\\u062d\\u0648\\u0644 \\u0627\\u0644\\u0625\\u0644\\u0643\\u062a\\u0631\\u0648\\u0646\\u064a \\u064a\\u062d\\u062a\\u0627\\u062c\\u0644\\u0647 \\u0634\\u0628\\u0643\\u0629 \\u0625\\u062a\\u0635\\u0627\\u0644\\u0627\\u062a \\u0642\\u0648\\u064a\\u0629 \\u062c\\u062f\\u0627 \\u0648\\u0636\\u0645\\u064a\\u0631 \\u0644\\u0627 \\u064a\\u0639\\u0631\\u0641 \\u0627\\u0644\\u0643\\u0644\\u0644 \\u0648 \\u0627\\u0644\\u0645\\u0644\\u0644   \\u0628\\u0639\\u0636 \\u0627\\u0644\\u0645\\u0639\\u0627\\u0645\\u0644\\u0627\\u062a \\u0628\\u0633\\u0628\\u0628 \\u0627\\u0644\\u0634\\u0628\\u0643\\u0629 \\u0648\\u0628\\u0633\\u0628\\u0628 \\u062a\\u0639\\u0637\\u0644 \\u0627\\u0644\\u0623\\u0646\\u0638\\u0645\\u0629 \\u062a\\u062d\\u062a\\u0627\\u062c \\u0623\\u0643\\u062b\\u0631 \\u0645\\u0646 \\u0663 \\u0623\\u0634\\u0647\\u0631 \\u0628\\u064a\\u0646\\u0645\\u0627 \\u0644\\u0648 \\u0631\\u0627\\u062c\\u0639\\u0646\\u0627  \\u0627\\u0644\\u062c\\u0647\\u0629 \\u0627\\u0644\\u0645\\u062e\\u062a\\u0635\\u0629 \\u0644\\u0627 \\u064a\\u0623\\u062e\\u0630 \\u0623\\u0643\\u062b\\u0631 \\u0645\\u0646 \\u062e\\u0645\\u0633 \\u062f\\u0642\\u0627\\u0626\\u0642\"\n        ],\n        \"semantic_type\": \"\",\n        \"description\": \"\"\n      }\n    },\n    {\n      \"column\": \"target\",\n      \"properties\": {\n        \"dtype\": \"category\",\n        \"num_unique_values\": 3,\n        \"samples\": [\n          \"Women empowerment\",\n          \"Covid Vaccine\",\n          \"Digital Transformation\"\n        ],\n        \"semantic_type\": \"\",\n        \"description\": \"\"\n      }\n    },\n    {\n      \"column\": \"stance\",\n      \"properties\": {\n        \"dtype\": \"category\",\n        \"num_unique_values\": 3,\n        \"samples\": [\n          \"Against\",\n          \"Nothing\",\n          \"Favor\"\n        ],\n        \"semantic_type\": \"\",\n        \"description\": \"\"\n      }\n    }\n  ]\n}"
            }
          },
          "metadata": {},
          "execution_count": 113
        }
      ],
      "source": [
        "data_df.head()"
      ]
    },
    {
      "cell_type": "code",
      "execution_count": null,
      "metadata": {
        "id": "q-ng8_GqXKpj"
      },
      "outputs": [],
      "source": [
        "#def build_estimators():\n",
        "#    estimators = []\n",
        "#    svc = LinearSVC(penalty='l1', dual=False,tol=1e-3)\n",
        "#    estimators.append(('svc',svc))\n",
        "#    mnb= MultinomialNB(alpha=.01)\n",
        "#    estimators.append(('mnb',mnb))\n",
        "#    bnb= BernoulliNB(alpha=.01)\n",
        "#    estimators.append(('bnb',bnb))\n",
        "#    ensemble = VotingClassifier(estimators)\n",
        "#    return ensemble"
      ]
    },
    {
      "cell_type": "code",
      "source": [],
      "metadata": {
        "id": "y89ltsMcOnhX"
      },
      "execution_count": null,
      "outputs": []
    },
    {
      "cell_type": "code",
      "execution_count": 114,
      "metadata": {
        "id": "CqRLndBKAPIz"
      },
      "outputs": [],
      "source": [
        "def build_estimators():\n",
        "    # Initialize a list to hold the tuple pairs of estimator names and their instances\n",
        "    estimators = []\n",
        "\n",
        "    # Create a LinearSVC classifier\n",
        "    svc = LinearSVC(penalty='l1', dual=False, tol=1e-3)\n",
        "    # Append the LinearSVC classifier to the list of estimators\n",
        "    estimators.append(('svc', svc))\n",
        "\n",
        "    # Create a MultinomialNB classifier\n",
        "    mnb = MultinomialNB(alpha=.01)\n",
        "    # Append the MultinomialNB classifier to the list of estimators\n",
        "    estimators.append(('mnb', mnb))\n",
        "\n",
        "    # Create a Logistic Regression classifier\n",
        "    logreg = LogisticRegression(max_iter=1000)\n",
        "    # Append the Logistic Regression classifier to the list of estimators\n",
        "    estimators.append(('logreg', logreg))\n",
        "\n",
        "    # Create a voting classifier that combines the individual estimators\n",
        "    ensemble = VotingClassifier(estimators=estimators)\n",
        "\n",
        "    # Return the assembled voting classifier\n",
        "    return ensemble"
      ]
    },
    {
      "cell_type": "code",
      "source": [
        "# Preprocessing ..\n",
        "import re # for regular expression\n",
        "# remove punctuations علامات الترقيم\n",
        "arabic_punctuations = '''`÷×؛<>_()*&^%][ـ،/:\"؟.,'{}~¦+|!”…“–ـ'''\n",
        "english_punctuations = string.punctuation\n",
        "punctuations_list = arabic_punctuations + english_punctuations\n",
        "\n",
        "def remove_punctuations(text):\n",
        "    translator = str.maketrans('', '', punctuations_list)\n",
        "    return text.translate(translator)"
      ],
      "metadata": {
        "id": "42cvTSgET8VA"
      },
      "execution_count": 20,
      "outputs": []
    },
    {
      "cell_type": "code",
      "source": [
        "#processing the tweet\n",
        "def processPost(tweet):\n",
        "    #Replace @username with empty string\n",
        "    tweet = re.sub('@[^\\s]+', '', tweet)\n",
        "\n",
        "    #Convert www.* or https?://* to \" \"\n",
        "    tweet = re.sub('((www\\.[^\\s]+)|(https?://[^\\s]+))','',tweet)\n",
        "\n",
        "    #Replace #word with word\n",
        "    tweet = re.sub(r'#([^\\s]+)', r'\\1', tweet)\n",
        "\n",
        "    # remove punctuations\n",
        "    tweet= remove_punctuations(tweet)\n",
        "\n",
        "\n",
        "    #remove numbers\n",
        "    tweet = ''.join(i for i in tweet if not i.isdigit())\n",
        "\n",
        "    #remove english letters\n",
        "    tweet= re.sub(r'[a-z]+',\" \", tweet)\n",
        "    tweet= re.sub(r'[A-Z]+',\" \", tweet)\n",
        "\n",
        "    return tweet"
      ],
      "metadata": {
        "id": "B1qBab9hVKe7"
      },
      "execution_count": 21,
      "outputs": []
    },
    {
      "cell_type": "code",
      "source": [
        "data_df[\"cleanText\"] = data_df['text'].apply(lambda x: processPost(x))"
      ],
      "metadata": {
        "id": "PJd40JtoVRS_"
      },
      "execution_count": 22,
      "outputs": []
    },
    {
      "cell_type": "code",
      "source": [
        "data_df.head()"
      ],
      "metadata": {
        "colab": {
          "base_uri": "https://localhost:8080/",
          "height": 206
        },
        "id": "QK9Wip1NVWeA",
        "outputId": "3b782d55-c0db-46c2-ebfa-ffb4c30a50c0"
      },
      "execution_count": 23,
      "outputs": [
        {
          "output_type": "execute_result",
          "data": {
            "text/plain": [
              "   ID                                               text  \\\n",
              "0   1   عشان يلمع صورته ويعنني تمكين المرأة ويصير ترن...   \n",
              "1   3   روح حلل محد يم تطعيم كورونا شف الحرم البارح م...   \n",
              "2   4  هذا ما يُعرّف بـ'فوبيا المرأة المُتمكنة' آفة ف...   \n",
              "3   6  #LEAP22  مؤتمر يجمع اشهر وابرز المؤثرين في الم...   \n",
              "4   7  خصوصية البيانات وحمايتها في المنظمة مطلب ولكن ...   \n",
              "\n",
              "                   target   stance  \\\n",
              "0       Women empowerment  Against   \n",
              "1           Covid Vaccine  Nothing   \n",
              "2       Women empowerment    Favor   \n",
              "3  Digital Transformation    Favor   \n",
              "4  Digital Transformation    Favor   \n",
              "\n",
              "                                           cleanText  \n",
              "0   عشان يلمع صورته ويعنني تمكين المرأة ويصير ترن...  \n",
              "1   روح حلل محد يم تطعيم كورونا شف الحرم البارح م...  \n",
              "2  هذا ما يُعرّف بفوبيا المرأة المُتمكنة آفة فكري...  \n",
              "3     مؤتمر يجمع اشهر وابرز المؤثرين في المجال ال...  \n",
              "4  خصوصية البيانات وحمايتها في المنظمة مطلب ولكن ...  "
            ],
            "text/html": [
              "\n",
              "  <div id=\"df-25b15e9a-677a-4930-9ea2-c07a2d8f4759\" class=\"colab-df-container\">\n",
              "    <div>\n",
              "<style scoped>\n",
              "    .dataframe tbody tr th:only-of-type {\n",
              "        vertical-align: middle;\n",
              "    }\n",
              "\n",
              "    .dataframe tbody tr th {\n",
              "        vertical-align: top;\n",
              "    }\n",
              "\n",
              "    .dataframe thead th {\n",
              "        text-align: right;\n",
              "    }\n",
              "</style>\n",
              "<table border=\"1\" class=\"dataframe\">\n",
              "  <thead>\n",
              "    <tr style=\"text-align: right;\">\n",
              "      <th></th>\n",
              "      <th>ID</th>\n",
              "      <th>text</th>\n",
              "      <th>target</th>\n",
              "      <th>stance</th>\n",
              "      <th>cleanText</th>\n",
              "    </tr>\n",
              "  </thead>\n",
              "  <tbody>\n",
              "    <tr>\n",
              "      <th>0</th>\n",
              "      <td>1</td>\n",
              "      <td>عشان يلمع صورته ويعنني تمكين المرأة ويصير ترن...</td>\n",
              "      <td>Women empowerment</td>\n",
              "      <td>Against</td>\n",
              "      <td>عشان يلمع صورته ويعنني تمكين المرأة ويصير ترن...</td>\n",
              "    </tr>\n",
              "    <tr>\n",
              "      <th>1</th>\n",
              "      <td>3</td>\n",
              "      <td>روح حلل محد يم تطعيم كورونا شف الحرم البارح م...</td>\n",
              "      <td>Covid Vaccine</td>\n",
              "      <td>Nothing</td>\n",
              "      <td>روح حلل محد يم تطعيم كورونا شف الحرم البارح م...</td>\n",
              "    </tr>\n",
              "    <tr>\n",
              "      <th>2</th>\n",
              "      <td>4</td>\n",
              "      <td>هذا ما يُعرّف بـ'فوبيا المرأة المُتمكنة' آفة ف...</td>\n",
              "      <td>Women empowerment</td>\n",
              "      <td>Favor</td>\n",
              "      <td>هذا ما يُعرّف بفوبيا المرأة المُتمكنة آفة فكري...</td>\n",
              "    </tr>\n",
              "    <tr>\n",
              "      <th>3</th>\n",
              "      <td>6</td>\n",
              "      <td>#LEAP22  مؤتمر يجمع اشهر وابرز المؤثرين في الم...</td>\n",
              "      <td>Digital Transformation</td>\n",
              "      <td>Favor</td>\n",
              "      <td>مؤتمر يجمع اشهر وابرز المؤثرين في المجال ال...</td>\n",
              "    </tr>\n",
              "    <tr>\n",
              "      <th>4</th>\n",
              "      <td>7</td>\n",
              "      <td>خصوصية البيانات وحمايتها في المنظمة مطلب ولكن ...</td>\n",
              "      <td>Digital Transformation</td>\n",
              "      <td>Favor</td>\n",
              "      <td>خصوصية البيانات وحمايتها في المنظمة مطلب ولكن ...</td>\n",
              "    </tr>\n",
              "  </tbody>\n",
              "</table>\n",
              "</div>\n",
              "    <div class=\"colab-df-buttons\">\n",
              "\n",
              "  <div class=\"colab-df-container\">\n",
              "    <button class=\"colab-df-convert\" onclick=\"convertToInteractive('df-25b15e9a-677a-4930-9ea2-c07a2d8f4759')\"\n",
              "            title=\"Convert this dataframe to an interactive table.\"\n",
              "            style=\"display:none;\">\n",
              "\n",
              "  <svg xmlns=\"http://www.w3.org/2000/svg\" height=\"24px\" viewBox=\"0 -960 960 960\">\n",
              "    <path d=\"M120-120v-720h720v720H120Zm60-500h600v-160H180v160Zm220 220h160v-160H400v160Zm0 220h160v-160H400v160ZM180-400h160v-160H180v160Zm440 0h160v-160H620v160ZM180-180h160v-160H180v160Zm440 0h160v-160H620v160Z\"/>\n",
              "  </svg>\n",
              "    </button>\n",
              "\n",
              "  <style>\n",
              "    .colab-df-container {\n",
              "      display:flex;\n",
              "      gap: 12px;\n",
              "    }\n",
              "\n",
              "    .colab-df-convert {\n",
              "      background-color: #E8F0FE;\n",
              "      border: none;\n",
              "      border-radius: 50%;\n",
              "      cursor: pointer;\n",
              "      display: none;\n",
              "      fill: #1967D2;\n",
              "      height: 32px;\n",
              "      padding: 0 0 0 0;\n",
              "      width: 32px;\n",
              "    }\n",
              "\n",
              "    .colab-df-convert:hover {\n",
              "      background-color: #E2EBFA;\n",
              "      box-shadow: 0px 1px 2px rgba(60, 64, 67, 0.3), 0px 1px 3px 1px rgba(60, 64, 67, 0.15);\n",
              "      fill: #174EA6;\n",
              "    }\n",
              "\n",
              "    .colab-df-buttons div {\n",
              "      margin-bottom: 4px;\n",
              "    }\n",
              "\n",
              "    [theme=dark] .colab-df-convert {\n",
              "      background-color: #3B4455;\n",
              "      fill: #D2E3FC;\n",
              "    }\n",
              "\n",
              "    [theme=dark] .colab-df-convert:hover {\n",
              "      background-color: #434B5C;\n",
              "      box-shadow: 0px 1px 3px 1px rgba(0, 0, 0, 0.15);\n",
              "      filter: drop-shadow(0px 1px 2px rgba(0, 0, 0, 0.3));\n",
              "      fill: #FFFFFF;\n",
              "    }\n",
              "  </style>\n",
              "\n",
              "    <script>\n",
              "      const buttonEl =\n",
              "        document.querySelector('#df-25b15e9a-677a-4930-9ea2-c07a2d8f4759 button.colab-df-convert');\n",
              "      buttonEl.style.display =\n",
              "        google.colab.kernel.accessAllowed ? 'block' : 'none';\n",
              "\n",
              "      async function convertToInteractive(key) {\n",
              "        const element = document.querySelector('#df-25b15e9a-677a-4930-9ea2-c07a2d8f4759');\n",
              "        const dataTable =\n",
              "          await google.colab.kernel.invokeFunction('convertToInteractive',\n",
              "                                                    [key], {});\n",
              "        if (!dataTable) return;\n",
              "\n",
              "        const docLinkHtml = 'Like what you see? Visit the ' +\n",
              "          '<a target=\"_blank\" href=https://colab.research.google.com/notebooks/data_table.ipynb>data table notebook</a>'\n",
              "          + ' to learn more about interactive tables.';\n",
              "        element.innerHTML = '';\n",
              "        dataTable['output_type'] = 'display_data';\n",
              "        await google.colab.output.renderOutput(dataTable, element);\n",
              "        const docLink = document.createElement('div');\n",
              "        docLink.innerHTML = docLinkHtml;\n",
              "        element.appendChild(docLink);\n",
              "      }\n",
              "    </script>\n",
              "  </div>\n",
              "\n",
              "\n",
              "<div id=\"df-9e7b1818-b813-49bd-b9a4-1874decfadd9\">\n",
              "  <button class=\"colab-df-quickchart\" onclick=\"quickchart('df-9e7b1818-b813-49bd-b9a4-1874decfadd9')\"\n",
              "            title=\"Suggest charts\"\n",
              "            style=\"display:none;\">\n",
              "\n",
              "<svg xmlns=\"http://www.w3.org/2000/svg\" height=\"24px\"viewBox=\"0 0 24 24\"\n",
              "     width=\"24px\">\n",
              "    <g>\n",
              "        <path d=\"M19 3H5c-1.1 0-2 .9-2 2v14c0 1.1.9 2 2 2h14c1.1 0 2-.9 2-2V5c0-1.1-.9-2-2-2zM9 17H7v-7h2v7zm4 0h-2V7h2v10zm4 0h-2v-4h2v4z\"/>\n",
              "    </g>\n",
              "</svg>\n",
              "  </button>\n",
              "\n",
              "<style>\n",
              "  .colab-df-quickchart {\n",
              "      --bg-color: #E8F0FE;\n",
              "      --fill-color: #1967D2;\n",
              "      --hover-bg-color: #E2EBFA;\n",
              "      --hover-fill-color: #174EA6;\n",
              "      --disabled-fill-color: #AAA;\n",
              "      --disabled-bg-color: #DDD;\n",
              "  }\n",
              "\n",
              "  [theme=dark] .colab-df-quickchart {\n",
              "      --bg-color: #3B4455;\n",
              "      --fill-color: #D2E3FC;\n",
              "      --hover-bg-color: #434B5C;\n",
              "      --hover-fill-color: #FFFFFF;\n",
              "      --disabled-bg-color: #3B4455;\n",
              "      --disabled-fill-color: #666;\n",
              "  }\n",
              "\n",
              "  .colab-df-quickchart {\n",
              "    background-color: var(--bg-color);\n",
              "    border: none;\n",
              "    border-radius: 50%;\n",
              "    cursor: pointer;\n",
              "    display: none;\n",
              "    fill: var(--fill-color);\n",
              "    height: 32px;\n",
              "    padding: 0;\n",
              "    width: 32px;\n",
              "  }\n",
              "\n",
              "  .colab-df-quickchart:hover {\n",
              "    background-color: var(--hover-bg-color);\n",
              "    box-shadow: 0 1px 2px rgba(60, 64, 67, 0.3), 0 1px 3px 1px rgba(60, 64, 67, 0.15);\n",
              "    fill: var(--button-hover-fill-color);\n",
              "  }\n",
              "\n",
              "  .colab-df-quickchart-complete:disabled,\n",
              "  .colab-df-quickchart-complete:disabled:hover {\n",
              "    background-color: var(--disabled-bg-color);\n",
              "    fill: var(--disabled-fill-color);\n",
              "    box-shadow: none;\n",
              "  }\n",
              "\n",
              "  .colab-df-spinner {\n",
              "    border: 2px solid var(--fill-color);\n",
              "    border-color: transparent;\n",
              "    border-bottom-color: var(--fill-color);\n",
              "    animation:\n",
              "      spin 1s steps(1) infinite;\n",
              "  }\n",
              "\n",
              "  @keyframes spin {\n",
              "    0% {\n",
              "      border-color: transparent;\n",
              "      border-bottom-color: var(--fill-color);\n",
              "      border-left-color: var(--fill-color);\n",
              "    }\n",
              "    20% {\n",
              "      border-color: transparent;\n",
              "      border-left-color: var(--fill-color);\n",
              "      border-top-color: var(--fill-color);\n",
              "    }\n",
              "    30% {\n",
              "      border-color: transparent;\n",
              "      border-left-color: var(--fill-color);\n",
              "      border-top-color: var(--fill-color);\n",
              "      border-right-color: var(--fill-color);\n",
              "    }\n",
              "    40% {\n",
              "      border-color: transparent;\n",
              "      border-right-color: var(--fill-color);\n",
              "      border-top-color: var(--fill-color);\n",
              "    }\n",
              "    60% {\n",
              "      border-color: transparent;\n",
              "      border-right-color: var(--fill-color);\n",
              "    }\n",
              "    80% {\n",
              "      border-color: transparent;\n",
              "      border-right-color: var(--fill-color);\n",
              "      border-bottom-color: var(--fill-color);\n",
              "    }\n",
              "    90% {\n",
              "      border-color: transparent;\n",
              "      border-bottom-color: var(--fill-color);\n",
              "    }\n",
              "  }\n",
              "</style>\n",
              "\n",
              "  <script>\n",
              "    async function quickchart(key) {\n",
              "      const quickchartButtonEl =\n",
              "        document.querySelector('#' + key + ' button');\n",
              "      quickchartButtonEl.disabled = true;  // To prevent multiple clicks.\n",
              "      quickchartButtonEl.classList.add('colab-df-spinner');\n",
              "      try {\n",
              "        const charts = await google.colab.kernel.invokeFunction(\n",
              "            'suggestCharts', [key], {});\n",
              "      } catch (error) {\n",
              "        console.error('Error during call to suggestCharts:', error);\n",
              "      }\n",
              "      quickchartButtonEl.classList.remove('colab-df-spinner');\n",
              "      quickchartButtonEl.classList.add('colab-df-quickchart-complete');\n",
              "    }\n",
              "    (() => {\n",
              "      let quickchartButtonEl =\n",
              "        document.querySelector('#df-9e7b1818-b813-49bd-b9a4-1874decfadd9 button');\n",
              "      quickchartButtonEl.style.display =\n",
              "        google.colab.kernel.accessAllowed ? 'block' : 'none';\n",
              "    })();\n",
              "  </script>\n",
              "</div>\n",
              "\n",
              "    </div>\n",
              "  </div>\n"
            ],
            "application/vnd.google.colaboratory.intrinsic+json": {
              "type": "dataframe",
              "variable_name": "data_df",
              "summary": "{\n  \"name\": \"data_df\",\n  \"rows\": 3502,\n  \"fields\": [\n    {\n      \"column\": \"ID\",\n      \"properties\": {\n        \"dtype\": \"number\",\n        \"std\": 1184,\n        \"min\": 1,\n        \"max\": 4121,\n        \"num_unique_values\": 3502,\n        \"samples\": [\n          3698,\n          378,\n          2554\n        ],\n        \"semantic_type\": \"\",\n        \"description\": \"\"\n      }\n    },\n    {\n      \"column\": \"text\",\n      \"properties\": {\n        \"dtype\": \"string\",\n        \"num_unique_values\": 3495,\n        \"samples\": [\n          \"\\ud83d\\udccd\\u0627\\u0644\\u0645\\u0631\\u0627\\u062c\\u0639\\u0629 \\u0648\\u0627\\u0644\\u062a\\u062f\\u0642\\u064a\\u0642  \\u0644\\u0644\\u0634\\u0631\\u0643\\u0627\\u062a \\u0627\\u0644\\u0639\\u0627\\u0645\\u0644\\u0629 \\u0641\\u064a \\u0645\\u062c\\u0627\\u0644 \\u0627\\u0644\\u062a\\u062c\\u0627\\u0631\\u0629 \\u0627\\u0644\\u0627\\u0644\\u0643\\u062a\\u0631\\u0648\\u0646\\u064a\\u0629.  \\ud83d\\udccd \\u0627\\u0644\\u062a\\u0637\\u0648\\u0631 \\u0627\\u0644\\u062a\\u0642\\u0646\\u064a \\u0648\\u0627\\u0644\\u062a\\u0643\\u0646\\u0648\\u0644\\u0648\\u062c\\u064a \\u0648 \\u062a\\u0635\\u0645\\u064a\\u0645 \\u0627\\u0644\\u0646\\u0638\\u0645  \\ud83d\\udccd\\u0627\\u062b\\u0631 \\u0627\\u0644\\u062d\\u0648\\u0643\\u0645\\u0629 \\u0639\\u0644\\u0649 \\u062c\\u0648\\u062f\\u0647 \\u0627\\u0644\\u062a\\u0642\\u0627\\u0631\\u064a\\u0631 \\u0627\\u0644\\u0645\\u0627\\u0644\\u064a\\u0629  \\ud83d\\udccd\\u0627\\u062b\\u0631 \\u0627\\u0644\\u062a\\u062d\\u0648\\u0644 \\u0627\\u0644\\u0645\\u062d\\u0627\\u0633\\u0628\\u064a \\u0641\\u064a \\u0627\\u0644\\u0642\\u0637\\u0627\\u0639 \\u0627\\u0644\\u062d\\u0643\\u0648\\u0645\\u064a \\u0641\\u064a \\u062a\\u062d\\u0642\\u064a\\u0642 \\u0627\\u0644\\u0631\\u0624\\u064a\\u0629\",\n          \" \\u062a\\u0645\\u0643\\u064a\\u0646 \\u0627\\u0644\\u0645\\u0631\\u0623\\u0629 \\u0641\\u064a \\u0627\\u0644\\u0645\\u0646\\u0627\\u0635\\u0628 \\u0627\\u0644\\u0642\\u064a\\u0627\\u062f\\u064a\\u0629 \\u0645\\u062e\\u0627\\u0644\\u0641 \\u0644\\u062a\\u0648\\u062c\\u064a\\u0647\\u0627\\u062a \\u0646\\u0628\\u064a\\u0646\\u0627 \\u0627\\u0644\\u0643\\u0631\\u064a\\u0645 \\u0627\\u0644\\u0635\\u062d\\u0627\\u0628\\u064a\\u0627\\u062a \\u0639\\u0644\\u0649 \\u0643\\u0631\\u064a\\u0645 \\u0642\\u062f\\u0631\\u0647\\u0645 \\u0648\\u0639\\u0644\\u0645\\u0647\\u0645 \\u0644\\u0645 \\u062a\\u062a\\u0648\\u0644\\u0649 \\u0625\\u062d\\u062f\\u0627\\u0647\\u0646 \\u0645\\u0646\\u0635\\u0628\\u0627 \\u0642\\u064a\\u0627\\u062f\\u064a\\u0627 \\u0623\\u0628\\u062f\\u0627.. \\u0641\\u0627\\u062a\\u0645\\u0646\\u0649 \\u0645\\u0646\\u0643 \\u064a\\u0627 \\u062f\\u0643\\u062a\\u0648\\u0631 \\u0623\\u0646 \\u062a\\u0631\\u0636\\u064a \\u0627\\u0644\\u0644\\u0647 \\u0648\\u062a\\u062a\\u0631\\u0643 \\u0627\\u0644\\u0646\\u0627\\u0633\",\n          \"   \\u0627\\u0644\\u062a\\u062d\\u0648\\u0644 \\u0627\\u0644\\u0625\\u0644\\u0643\\u062a\\u0631\\u0648\\u0646\\u064a \\u064a\\u062d\\u062a\\u0627\\u062c\\u0644\\u0647 \\u0634\\u0628\\u0643\\u0629 \\u0625\\u062a\\u0635\\u0627\\u0644\\u0627\\u062a \\u0642\\u0648\\u064a\\u0629 \\u062c\\u062f\\u0627 \\u0648\\u0636\\u0645\\u064a\\u0631 \\u0644\\u0627 \\u064a\\u0639\\u0631\\u0641 \\u0627\\u0644\\u0643\\u0644\\u0644 \\u0648 \\u0627\\u0644\\u0645\\u0644\\u0644   \\u0628\\u0639\\u0636 \\u0627\\u0644\\u0645\\u0639\\u0627\\u0645\\u0644\\u0627\\u062a \\u0628\\u0633\\u0628\\u0628 \\u0627\\u0644\\u0634\\u0628\\u0643\\u0629 \\u0648\\u0628\\u0633\\u0628\\u0628 \\u062a\\u0639\\u0637\\u0644 \\u0627\\u0644\\u0623\\u0646\\u0638\\u0645\\u0629 \\u062a\\u062d\\u062a\\u0627\\u062c \\u0623\\u0643\\u062b\\u0631 \\u0645\\u0646 \\u0663 \\u0623\\u0634\\u0647\\u0631 \\u0628\\u064a\\u0646\\u0645\\u0627 \\u0644\\u0648 \\u0631\\u0627\\u062c\\u0639\\u0646\\u0627  \\u0627\\u0644\\u062c\\u0647\\u0629 \\u0627\\u0644\\u0645\\u062e\\u062a\\u0635\\u0629 \\u0644\\u0627 \\u064a\\u0623\\u062e\\u0630 \\u0623\\u0643\\u062b\\u0631 \\u0645\\u0646 \\u062e\\u0645\\u0633 \\u062f\\u0642\\u0627\\u0626\\u0642\"\n        ],\n        \"semantic_type\": \"\",\n        \"description\": \"\"\n      }\n    },\n    {\n      \"column\": \"target\",\n      \"properties\": {\n        \"dtype\": \"category\",\n        \"num_unique_values\": 3,\n        \"samples\": [\n          \"Women empowerment\",\n          \"Covid Vaccine\",\n          \"Digital Transformation\"\n        ],\n        \"semantic_type\": \"\",\n        \"description\": \"\"\n      }\n    },\n    {\n      \"column\": \"stance\",\n      \"properties\": {\n        \"dtype\": \"category\",\n        \"num_unique_values\": 3,\n        \"samples\": [\n          \"Against\",\n          \"Nothing\",\n          \"Favor\"\n        ],\n        \"semantic_type\": \"\",\n        \"description\": \"\"\n      }\n    },\n    {\n      \"column\": \"cleanText\",\n      \"properties\": {\n        \"dtype\": \"string\",\n        \"num_unique_values\": 3494,\n        \"samples\": [\n          \"\\u0628\\u064a\\u0644 \\u063a\\u064a\\u062a\\u0633   \\u0648\\u0644\\u0644\\u0647 \\u0627\\u0644\\u062d\\u0645\\u062f  \\u0634\\u0628\\u0639    \\u0635\\u0631\\u0651\\u062d \\u0628\\u0623\\u0646 \\u0643\\u0648\\u0631\\u0648\\u0646\\u0627 \\u0633\\u0648\\u0641 \\u062a\\u0646\\u062a\\u0647\\u064a \\u0641\\u064a    \\u0644\\u0643\\u0646 \\u0643\\u0644 \\u0633\\u0646\\u0629 \\u0641\\u064a  \\u062a\\u0637\\u0639\\u064a\\u0645   \\ud83d\\ude02\\ud83d\\ude02\\ud83d\\ude02\\ud83d\\ude02  \",\n          \"\\u0633\\u0639\\u0627\\u062f\\u0629 \\u0627\\u0644\\u0633\\u0641\\u064a\\u0631 \\u0623\\u062d\\u0645\\u062f \\u0627\\u0644\\u0645\\u0646\\u0647\\u0627\\u0644\\u064a \\u064a\\u0647\\u0646\\u0626 \\u0627\\u0644\\u0645\\u0631\\u0623\\u0629 \\u0623\\u062b\\u0646\\u0627\\u0621 \\u0627\\u0644\\u0643\\u0644\\u0645\\u0629 \\u0627\\u0644\\u062a\\u064a \\u0623\\u0644\\u0642\\u0627\\u0647\\u0627 \\u062e\\u0644\\u0627\\u0644 \\u0645\\u0634\\u0627\\u0631\\u0643\\u062a\\u0647 \\u0643\\u0636\\u064a\\u0641 \\u0634\\u0631\\u0641 \\u0641\\u064a \\u0627\\u062c\\u062a\\u0645\\u0627\\u0639 \\u0628\\u0645\\u0646\\u0627\\u0633\\u0628\\u0629 \\u0627\\u0644\\u064a\\u0648\\u0645 \\u0627\\u0644\\u0639\\u0627\\u0644\\u0645\\u064a \\u0644\\u0644\\u0645\\u0631\\u0623\\u0629 \\u0645\\u0646 \\u062a\\u0646\\u0638\\u064a\\u0645 \\u0627\\u0644\\u062c\\u0645\\u0639\\u064a\\u0629 \\u0627\\u0644\\u0645\\u0643\\u0633\\u064a\\u0643\\u064a\\u0629 \\u0644\\u0633\\u064a\\u062f\\u0627\\u062a \\u0627\\u0644\\u0623\\u0639\\u0645\\u0627\\u0644 \\u0648\\u0628\\u062d\\u0636\\u0648\\u0631 \\u0647\\u064a\\u0626\\u0627\\u062a \\u0623\\u062e\\u0631\\u0649 \\u0641\\u064a \\u0645\\u062c\\u0627\\u0644 \\u062a\\u0645\\u0643\\u064a\\u0646 \\u0627\\u0644\\u0645\\u0631\\u0623\\u0629 \\u0648\\u0627\\u0644\\u0645\\u0633\\u0627\\u0648\\u0627\\u0629 \\u0628\\u064a\\u0646 \\u0627\\u0644\\u062c\\u0646\\u0633\\u064a\\u0646 \\ud83c\\udde6\\ud83c\\uddea\\ud83c\\uddf2\\ud83c\\uddfd  \",\n          \"\\u0625\\u062f\\u0627\\u0631\\u0629 \\u062d\\u0642\\u0648\\u0642 \\u0627\\u0644\\u0625\\u0646\\u0633\\u0627\\u0646 \\u0628\\u0648\\u0632\\u0627\\u0631\\u0629 \\u0627\\u0644\\u062e\\u0627\\u0631\\u062c\\u064a\\u0629 \\u062a\\u0646\\u0638\\u0645 \\u0628\\u0627\\u0644\\u062a\\u0639\\u0627\\u0648\\u0646 \\u0645\\u0639 \\u0633\\u0641\\u0627\\u0631\\u0629 \\u0627\\u0644\\u0645\\u0645\\u0644\\u0643\\u0629 \\u0627\\u0644\\u0645\\u062a\\u062d\\u062f\\u0629 \\u0644\\u062f\\u0649 \\u0642\\u0637\\u0631 \\u0636\\u0645\\u0646 \\u0627\\u0644\\u0627\\u062d\\u062a\\u0641\\u0627\\u0644 \\u0628\\u0627\\u0644\\u064a\\u0648\\u0645 \\u0627\\u0644\\u0639\\u0627\\u0644\\u0645\\u064a \\u0644\\u0644\\u0645\\u0631\\u0623\\u0629 \\u0646\\u062f\\u0648\\u0629 \\u062d\\u0648\\u0644 \\u062a\\u0645\\u0643\\u064a\\u0646 \\u0627\\u0644\\u0645\\u0631\\u0623\\u0629 \\u0641\\u064a \\u0627\\u0644\\u0645\\u062c\\u0627\\u0644 \\u0627\\u0644\\u0633\\u064a\\u0627\\u0633\\u064a \\u0648\\u0627\\u0644\\u062f\\u0628\\u0644\\u0648\\u0645\\u0627\\u0633\\u064a \\u0628\\u0647\\u062f\\u0641 \\u0632\\u064a\\u0627\\u062f\\u0629 \\u0627\\u0644\\u0648\\u0639\\u064a \\u0628\\u0627\\u0644\\u0623\\u062f\\u0648\\u0627\\u0631 \\u0627\\u0644\\u0647\\u0627\\u0645\\u0629 \\u0627\\u0644\\u062a\\u064a \\u064a\\u0645\\u0643\\u0646 \\u0623\\u0646 \\u062a\\u0642\\u0648\\u0645 \\u0628\\u0647\\u0627 \\u0627\\u0644\\u0645\\u0631\\u0623\\u0629 \\u0641\\u064a \\u0627\\u0644\\u0645\\u062c\\u0627\\u0644\\u064a\\u0646 \\u0627\\u0644\\u0633\\u064a\\u0627\\u0633\\u064a \\u0648\\u0627\\u0644\\u062f\\u0628\\u0644\\u0648\\u0645\\u0627\\u0633\\u064a \\u0642\\u0646\\u0627\"\n        ],\n        \"semantic_type\": \"\",\n        \"description\": \"\"\n      }\n    }\n  ]\n}"
            }
          },
          "metadata": {},
          "execution_count": 23
        }
      ]
    },
    {
      "cell_type": "code",
      "execution_count": 115,
      "metadata": {
        "id": "AdjvfRe7Xt4m"
      },
      "outputs": [],
      "source": [
        "x=data_df['text']  + data_df['target']\n",
        "#x=data_df['cleanText']\n",
        "y=data_df['stance']"
      ]
    },
    {
      "cell_type": "code",
      "execution_count": 116,
      "metadata": {
        "id": "5iKg5-mPXt7b"
      },
      "outputs": [],
      "source": [
        "X_train, X_test, y_train, y_test=train_test_split(x,y,test_size=0.1,stratify=y,random_state=42)\n",
        "#X_train1, X_valid, y_train1, y_valid=train_test_split(X_train, y_train,test_size=0.1,\n",
        "#                                                      stratify=y_train,random_state=42)"
      ]
    },
    {
      "cell_type": "code",
      "execution_count": 117,
      "metadata": {
        "id": "7a-ay1uRXt-M"
      },
      "outputs": [],
      "source": [
        "target_names=list(y_train.unique())"
      ]
    },
    {
      "cell_type": "code",
      "execution_count": 118,
      "metadata": {
        "colab": {
          "base_uri": "https://localhost:8080/"
        },
        "id": "spo0zWKyXuA6",
        "outputId": "c91ffe8a-0334-49a4-bc40-d766ff7fb270"
      },
      "outputs": [
        {
          "output_type": "execute_result",
          "data": {
            "text/plain": [
              "['Against', 'Favor', 'Nothing']"
            ]
          },
          "metadata": {},
          "execution_count": 118
        }
      ],
      "source": [
        "target_names"
      ]
    },
    {
      "cell_type": "code",
      "execution_count": null,
      "metadata": {
        "id": "zn5cAwsvX-qO"
      },
      "outputs": [],
      "source": [
        "# featureunion -> combines several transformer objects into a new transformer that combines their output.\n",
        "# A FeatureUnion takes a list of transformer objects. During fitting, each of these is fit to the data independently.\n",
        "# For transforming data, the transformers are applied in parallel, and\n",
        "# the sample vectors they output are concatenated end-to-end into larger vectors."
      ]
    },
    {
      "cell_type": "code",
      "execution_count": null,
      "metadata": {
        "id": "U1on-YxsX-s0"
      },
      "outputs": [],
      "source": [
        "#Extracting features from the training data using a Tfidf-Vectorizer"
      ]
    },
    {
      "cell_type": "code",
      "source": [
        "# featureunion -> concatenate the results of multiple transformer objects,combine several feature extraction mechanisms\n",
        "#into a single transformer. # 1 2 # 2 5\n",
        "max_df = 0.5\n",
        "union = FeatureUnion([(\"w_v\", TfidfVectorizer(sublinear_tf=True, max_df=max_df,analyzer = 'word', ngram_range=(1,2)\n",
        "                                             )),\n",
        "\n",
        "                      (\"c_wb\", TfidfVectorizer(sublinear_tf=True,max_df=max_df,analyzer = 'char_wb', ngram_range=(2,4)\n",
        "                              )),\n",
        "\n",
        "              #        (\"c_wb5\", TfidfVectorizer(sublinear_tf=True, max_df=max_df,analyzer = 'char', ngram_range=(2,5)\n",
        "              #                   )),\n",
        "\n",
        "\n",
        "                       ],\n",
        "transformer_weights={\n",
        "            'w_v': 0.9,\n",
        "            'c_wb': 0.9,\n",
        "          #  \"c_wb5\":0.9,\n",
        "\n",
        "        }\n",
        ",\n",
        ")\n",
        "\n",
        "X_train_feat = union.fit_transform(X_train)\n",
        "X_valid_feat = union.transform(X_test)\n",
        "sm = SMOTE(random_state=42)              ## to solve the imbalanced data problem\n",
        "X_res, y_res = sm.fit_resample(X_train_feat, y_train)\n",
        "#X_res=X_train_feat\n",
        "#y_res=y_train\n",
        "print(\"Combined space has\", X_res.shape[1], \"features\")"
      ],
      "metadata": {
        "colab": {
          "base_uri": "https://localhost:8080/"
        },
        "id": "ckvIOVaCS62-",
        "outputId": "fb1ef884-0c97-423a-89c3-d17c57317a37"
      },
      "execution_count": 119,
      "outputs": [
        {
          "output_type": "stream",
          "name": "stdout",
          "text": [
            "Combined space has 155365 features\n"
          ]
        }
      ]
    },
    {
      "cell_type": "code",
      "execution_count": 12,
      "metadata": {
        "colab": {
          "base_uri": "https://localhost:8080/"
        },
        "id": "g6nAsPPFYGD1",
        "outputId": "cf110517-e76e-40fe-c29b-7282fbd39f1d"
      },
      "outputs": [
        {
          "output_type": "stream",
          "name": "stdout",
          "text": [
            "Combined space has 473583 features\n"
          ]
        }
      ],
      "source": [
        "# featureunion -> concatenate the results of multiple transformer objects,combine several feature extraction mechanisms\n",
        "#into a single transformer.\n",
        "max_df = 0.5\n",
        "union = FeatureUnion([(\"w_v\", TfidfVectorizer(sublinear_tf=True, max_df=max_df,analyzer = 'word', ngram_range=(1,3)\n",
        "                                             )),\n",
        "\n",
        "                      (\"c_wb\", TfidfVectorizer(sublinear_tf=True,max_df=max_df,analyzer = 'char_wb', ngram_range=(2,5)\n",
        "                              )),\n",
        "\n",
        "                      (\"c_wb5\", TfidfVectorizer(sublinear_tf=True, max_df=max_df,analyzer = 'char', ngram_range=(2,5)\n",
        "                                 )),\n",
        "\n",
        "\n",
        "                       ],\n",
        "transformer_weights={\n",
        "            'w_v': 0.9,\n",
        "            'c_wb': 0.9,\n",
        "            \"c_wb5\":0.9,\n",
        "\n",
        "        }\n",
        ",\n",
        ")\n",
        "\n",
        "X_train_feat = union.fit_transform(X_train)\n",
        "X_valid_feat = union.transform(X_test)\n",
        "sm = SMOTE(random_state=42)              ## to solve the imbalanced data problem\n",
        "X_res, y_res = sm.fit_resample(X_train_feat, y_train)\n",
        "print(\"Combined space has\", X_res.shape[1], \"features\")"
      ]
    },
    {
      "cell_type": "code",
      "execution_count": 120,
      "metadata": {
        "colab": {
          "base_uri": "https://localhost:8080/",
          "height": 110
        },
        "id": "2-RWKGRJYGG9",
        "outputId": "9f9f3de9-16b8-4c73-d20a-cdff7e3bd875"
      },
      "outputs": [
        {
          "output_type": "execute_result",
          "data": {
            "text/plain": [
              "VotingClassifier(estimators=[('svc',\n",
              "                              LinearSVC(dual=False, penalty='l1', tol=0.001)),\n",
              "                             ('mnb', MultinomialNB(alpha=0.01)),\n",
              "                             ('logreg', LogisticRegression(max_iter=1000))])"
            ],
            "text/html": [
              "<style>#sk-container-id-12 {color: black;background-color: white;}#sk-container-id-12 pre{padding: 0;}#sk-container-id-12 div.sk-toggleable {background-color: white;}#sk-container-id-12 label.sk-toggleable__label {cursor: pointer;display: block;width: 100%;margin-bottom: 0;padding: 0.3em;box-sizing: border-box;text-align: center;}#sk-container-id-12 label.sk-toggleable__label-arrow:before {content: \"▸\";float: left;margin-right: 0.25em;color: #696969;}#sk-container-id-12 label.sk-toggleable__label-arrow:hover:before {color: black;}#sk-container-id-12 div.sk-estimator:hover label.sk-toggleable__label-arrow:before {color: black;}#sk-container-id-12 div.sk-toggleable__content {max-height: 0;max-width: 0;overflow: hidden;text-align: left;background-color: #f0f8ff;}#sk-container-id-12 div.sk-toggleable__content pre {margin: 0.2em;color: black;border-radius: 0.25em;background-color: #f0f8ff;}#sk-container-id-12 input.sk-toggleable__control:checked~div.sk-toggleable__content {max-height: 200px;max-width: 100%;overflow: auto;}#sk-container-id-12 input.sk-toggleable__control:checked~label.sk-toggleable__label-arrow:before {content: \"▾\";}#sk-container-id-12 div.sk-estimator input.sk-toggleable__control:checked~label.sk-toggleable__label {background-color: #d4ebff;}#sk-container-id-12 div.sk-label input.sk-toggleable__control:checked~label.sk-toggleable__label {background-color: #d4ebff;}#sk-container-id-12 input.sk-hidden--visually {border: 0;clip: rect(1px 1px 1px 1px);clip: rect(1px, 1px, 1px, 1px);height: 1px;margin: -1px;overflow: hidden;padding: 0;position: absolute;width: 1px;}#sk-container-id-12 div.sk-estimator {font-family: monospace;background-color: #f0f8ff;border: 1px dotted black;border-radius: 0.25em;box-sizing: border-box;margin-bottom: 0.5em;}#sk-container-id-12 div.sk-estimator:hover {background-color: #d4ebff;}#sk-container-id-12 div.sk-parallel-item::after {content: \"\";width: 100%;border-bottom: 1px solid gray;flex-grow: 1;}#sk-container-id-12 div.sk-label:hover label.sk-toggleable__label {background-color: #d4ebff;}#sk-container-id-12 div.sk-serial::before {content: \"\";position: absolute;border-left: 1px solid gray;box-sizing: border-box;top: 0;bottom: 0;left: 50%;z-index: 0;}#sk-container-id-12 div.sk-serial {display: flex;flex-direction: column;align-items: center;background-color: white;padding-right: 0.2em;padding-left: 0.2em;position: relative;}#sk-container-id-12 div.sk-item {position: relative;z-index: 1;}#sk-container-id-12 div.sk-parallel {display: flex;align-items: stretch;justify-content: center;background-color: white;position: relative;}#sk-container-id-12 div.sk-item::before, #sk-container-id-12 div.sk-parallel-item::before {content: \"\";position: absolute;border-left: 1px solid gray;box-sizing: border-box;top: 0;bottom: 0;left: 50%;z-index: -1;}#sk-container-id-12 div.sk-parallel-item {display: flex;flex-direction: column;z-index: 1;position: relative;background-color: white;}#sk-container-id-12 div.sk-parallel-item:first-child::after {align-self: flex-end;width: 50%;}#sk-container-id-12 div.sk-parallel-item:last-child::after {align-self: flex-start;width: 50%;}#sk-container-id-12 div.sk-parallel-item:only-child::after {width: 0;}#sk-container-id-12 div.sk-dashed-wrapped {border: 1px dashed gray;margin: 0 0.4em 0.5em 0.4em;box-sizing: border-box;padding-bottom: 0.4em;background-color: white;}#sk-container-id-12 div.sk-label label {font-family: monospace;font-weight: bold;display: inline-block;line-height: 1.2em;}#sk-container-id-12 div.sk-label-container {text-align: center;}#sk-container-id-12 div.sk-container {/* jupyter's `normalize.less` sets `[hidden] { display: none; }` but bootstrap.min.css set `[hidden] { display: none !important; }` so we also need the `!important` here to be able to override the default hidden behavior on the sphinx rendered scikit-learn.org. See: https://github.com/scikit-learn/scikit-learn/issues/21755 */display: inline-block !important;position: relative;}#sk-container-id-12 div.sk-text-repr-fallback {display: none;}</style><div id=\"sk-container-id-12\" class=\"sk-top-container\"><div class=\"sk-text-repr-fallback\"><pre>VotingClassifier(estimators=[(&#x27;svc&#x27;,\n",
              "                              LinearSVC(dual=False, penalty=&#x27;l1&#x27;, tol=0.001)),\n",
              "                             (&#x27;mnb&#x27;, MultinomialNB(alpha=0.01)),\n",
              "                             (&#x27;logreg&#x27;, LogisticRegression(max_iter=1000))])</pre><b>In a Jupyter environment, please rerun this cell to show the HTML representation or trust the notebook. <br />On GitHub, the HTML representation is unable to render, please try loading this page with nbviewer.org.</b></div><div class=\"sk-container\" hidden><div class=\"sk-item sk-dashed-wrapped\"><div class=\"sk-label-container\"><div class=\"sk-label sk-toggleable\"><input class=\"sk-toggleable__control sk-hidden--visually\" id=\"sk-estimator-id-45\" type=\"checkbox\" ><label for=\"sk-estimator-id-45\" class=\"sk-toggleable__label sk-toggleable__label-arrow\">VotingClassifier</label><div class=\"sk-toggleable__content\"><pre>VotingClassifier(estimators=[(&#x27;svc&#x27;,\n",
              "                              LinearSVC(dual=False, penalty=&#x27;l1&#x27;, tol=0.001)),\n",
              "                             (&#x27;mnb&#x27;, MultinomialNB(alpha=0.01)),\n",
              "                             (&#x27;logreg&#x27;, LogisticRegression(max_iter=1000))])</pre></div></div></div><div class=\"sk-parallel\"><div class=\"sk-parallel-item\"><div class=\"sk-item\"><div class=\"sk-label-container\"><div class=\"sk-label sk-toggleable\"><label>svc</label></div></div><div class=\"sk-serial\"><div class=\"sk-item\"><div class=\"sk-estimator sk-toggleable\"><input class=\"sk-toggleable__control sk-hidden--visually\" id=\"sk-estimator-id-46\" type=\"checkbox\" ><label for=\"sk-estimator-id-46\" class=\"sk-toggleable__label sk-toggleable__label-arrow\">LinearSVC</label><div class=\"sk-toggleable__content\"><pre>LinearSVC(dual=False, penalty=&#x27;l1&#x27;, tol=0.001)</pre></div></div></div></div></div></div><div class=\"sk-parallel-item\"><div class=\"sk-item\"><div class=\"sk-label-container\"><div class=\"sk-label sk-toggleable\"><label>mnb</label></div></div><div class=\"sk-serial\"><div class=\"sk-item\"><div class=\"sk-estimator sk-toggleable\"><input class=\"sk-toggleable__control sk-hidden--visually\" id=\"sk-estimator-id-47\" type=\"checkbox\" ><label for=\"sk-estimator-id-47\" class=\"sk-toggleable__label sk-toggleable__label-arrow\">MultinomialNB</label><div class=\"sk-toggleable__content\"><pre>MultinomialNB(alpha=0.01)</pre></div></div></div></div></div></div><div class=\"sk-parallel-item\"><div class=\"sk-item\"><div class=\"sk-label-container\"><div class=\"sk-label sk-toggleable\"><label>logreg</label></div></div><div class=\"sk-serial\"><div class=\"sk-item\"><div class=\"sk-estimator sk-toggleable\"><input class=\"sk-toggleable__control sk-hidden--visually\" id=\"sk-estimator-id-48\" type=\"checkbox\" ><label for=\"sk-estimator-id-48\" class=\"sk-toggleable__label sk-toggleable__label-arrow\">LogisticRegression</label><div class=\"sk-toggleable__content\"><pre>LogisticRegression(max_iter=1000)</pre></div></div></div></div></div></div></div></div></div></div>"
            ]
          },
          "metadata": {},
          "execution_count": 120
        }
      ],
      "source": [
        "#Training the classifier\n",
        "ensemble = build_estimators()\n",
        "ensemble.fit(X_res, y_res)"
      ]
    },
    {
      "cell_type": "code",
      "execution_count": 123,
      "metadata": {
        "colab": {
          "base_uri": "https://localhost:8080/"
        },
        "id": "-oA_DOmnYGJj",
        "outputId": "5534f89e-f165-4553-dfcf-755221d886d6"
      },
      "outputs": [
        {
          "output_type": "stream",
          "name": "stdout",
          "text": [
            "Test accuracy:   0.738\n",
            "classification report:\n",
            "              precision    recall  f1-score   support\n",
            "\n",
            "     Against       0.64      0.73      0.68       102\n",
            "       Favor       0.80      0.81      0.81       215\n",
            "     Nothing       0.59      0.29      0.39        34\n",
            "\n",
            "    accuracy                           0.74       351\n",
            "   macro avg       0.68      0.61      0.63       351\n",
            "weighted avg       0.73      0.74      0.73       351\n",
            "\n",
            "confusion matrix:\n",
            "[[ 74  26   2]\n",
            " [ 35 175   5]\n",
            " [  6  18  10]]\n"
          ]
        }
      ],
      "source": [
        "#Testing the classifier on validation data\n",
        "pred = ensemble.predict(X_valid_feat)\n",
        "#for i in range(0,10):\n",
        " #   print(data_train.target_names[pred[i]])\n",
        "\n",
        "score = metrics.accuracy_score(y_test, pred)\n",
        "print(\"Test accuracy:   %0.3f\" % score)\n",
        "\n",
        "print(\"classification report:\")\n",
        "print(metrics.classification_report(y_test, pred,target_names=target_names))\n",
        "\n",
        "print(\"confusion matrix:\")\n",
        "print(metrics.confusion_matrix(y_test, pred))"
      ]
    },
    {
      "cell_type": "code",
      "execution_count": 124,
      "metadata": {
        "colab": {
          "base_uri": "https://localhost:8080/"
        },
        "id": "DV3HxwUbYGMI",
        "outputId": "1408d7b8-eb87-45ab-bb70-3a4f65e71913"
      },
      "outputs": [
        {
          "output_type": "stream",
          "name": "stdout",
          "text": [
            "Macro-F1 Train: 0.987\n",
            "Macro-F1 Test: 0.627\n"
          ]
        }
      ],
      "source": [
        "from sklearn import metrics\n",
        "from sklearn.metrics import f1_score\n",
        "# Predicting on training data to compute training scores\n",
        "train_pred = ensemble.predict(X_train_feat)\n",
        "train_f1_macro = f1_score(y_train, train_pred, average='macro')\n",
        "print(\"Macro-F1 Train: %0.3f\" % train_f1_macro)\n",
        "\n",
        "# Testing the classifier on validation data\n",
        "pred = ensemble.predict(X_valid_feat)\n",
        "test_f1_macro = f1_score(y_test, pred, average='macro')\n",
        "print(\"Macro-F1 Test: %0.3f\" % test_f1_macro)"
      ]
    },
    {
      "cell_type": "code",
      "execution_count": null,
      "metadata": {
        "id": "7zhDWoPAX-vj"
      },
      "outputs": [],
      "source": [
        "#Macro-F1 Test: 0.63"
      ]
    },
    {
      "cell_type": "code",
      "source": [
        "# Get prediction ..."
      ],
      "metadata": {
        "id": "Dzy97_Drclf2"
      },
      "execution_count": null,
      "outputs": []
    },
    {
      "cell_type": "code",
      "source": [
        "blind_data = pd.read_csv('Mawqif_AllTargets_Blind Test.csv')"
      ],
      "metadata": {
        "id": "xLwMEgH6clie"
      },
      "execution_count": 125,
      "outputs": []
    },
    {
      "cell_type": "code",
      "source": [
        "x_blind = blind_data['text']"
      ],
      "metadata": {
        "id": "vbns7CWWcllR"
      },
      "execution_count": 126,
      "outputs": []
    },
    {
      "cell_type": "code",
      "source": [
        "# Transform the blind test data using the same union setup\n",
        "X_blind_feat = union.transform(x_blind)"
      ],
      "metadata": {
        "id": "lXyRusFVcloh"
      },
      "execution_count": 127,
      "outputs": []
    },
    {
      "cell_type": "code",
      "source": [
        "# Predict using the trained ensemble model\n",
        "blind_predictions = ensemble.predict(X_blind_feat)"
      ],
      "metadata": {
        "id": "NuwbhAbkdboX"
      },
      "execution_count": 128,
      "outputs": []
    },
    {
      "cell_type": "code",
      "source": [
        "# Attach predictions to the blind data DataFrame and save or display the results\n",
        "blind_data['predicted_stance'] = blind_predictions"
      ],
      "metadata": {
        "id": "_pRa3VM8dbq5"
      },
      "execution_count": 129,
      "outputs": []
    },
    {
      "cell_type": "code",
      "source": [
        "# Display the first few rows to confirm predictions are attached\n",
        "print(blind_data[['text', 'predicted_stance']].head())"
      ],
      "metadata": {
        "colab": {
          "base_uri": "https://localhost:8080/"
        },
        "id": "ds-6gjRBdjqy",
        "outputId": "dabc839a-3887-49b4-e309-5624fcaded99"
      },
      "execution_count": 130,
      "outputs": [
        {
          "output_type": "stream",
          "name": "stdout",
          "text": [
            "                                                text predicted_stance\n",
            "0  الوضع صار بالسعوديه يفشل لا عاد فيه شركات صاحي...          Against\n",
            "1     الفساد الإداري انهك البلاد ومازلنا نعتمد عل...            Favor\n",
            "2  -البي بي سي ١٠ دول اوروبية توقف تطعيم اوكسفورد...          Against\n",
            "3  منصة مدرستي بتسرع عملية التحول للتعليم الالكتر...            Favor\n",
            "4                       انا مع تمكين المرأة اصلا URL            Favor\n"
          ]
        }
      ]
    },
    {
      "cell_type": "code",
      "source": [
        "# Save the results to a new CSV file if needed\n",
        "blind_data.to_csv('(Submission#2)Mawqif_AllTargets_Blind_Test_Predictions.csv', index=False)"
      ],
      "metadata": {
        "id": "-aHTKllKdjtY"
      },
      "execution_count": 131,
      "outputs": []
    },
    {
      "cell_type": "code",
      "source": [],
      "metadata": {
        "id": "41Bu3UzedbtZ"
      },
      "execution_count": null,
      "outputs": []
    }
  ],
  "metadata": {
    "colab": {
      "provenance": [],
      "authorship_tag": "ABX9TyO6YKwBUjOgf0nkSmCNyPXZ",
      "include_colab_link": true
    },
    "kernelspec": {
      "display_name": "Python 3",
      "name": "python3"
    },
    "language_info": {
      "name": "python"
    }
  },
  "nbformat": 4,
  "nbformat_minor": 0
}